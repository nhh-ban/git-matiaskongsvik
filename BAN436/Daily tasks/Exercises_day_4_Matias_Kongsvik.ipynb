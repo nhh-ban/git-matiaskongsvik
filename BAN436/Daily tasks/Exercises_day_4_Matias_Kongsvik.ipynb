{
 "cells": [
  {
   "cell_type": "markdown",
   "metadata": {},
   "source": [
    "## Daily exercise, part 1\n",
    "\n",
    "Modify the function `plot_close` so that it instead takes a list of stocks and plots the daily closing price for all the stocks in the list in a single plot.\n",
    "\n",
    "Note that the function should only plot the closing price of a stock if that stock is actually present in the data (hint: use an `if` statement inside the function).\n",
    "\n",
    "Test the function using `closing_prices.csv` and execute the following function calls:\n",
    "```\n",
    "plot_close(df, ['AAPL'])\n",
    "plot_close(df, ['AAPL', 'AMZN', 'BABA', 'FB'])\n",
    "plot_close(df, ['AAPL', 'FAKE1', 'FAKE2', 'FB'])\n",
    "```"
   ]
  },
  {
   "cell_type": "code",
   "execution_count": null,
   "metadata": {},
   "outputs": [],
   "source": [
    "import pandas as pd\n",
    "import matplotlib.pyplot as plt\n",
    "\n",
    "# Import data\n",
    "df_close = pd.read_csv('data/closing_prices.csv')\n",
    "\n",
    "# Convert to datetime and sort\n",
    "df_close['Date'] = pd.to_datetime(df_close['Date'])\n",
    "df_close.sort_values('Date', inplace = True)\n",
    "\n",
    "# Extract subset\n",
    "amazon = df_close[df_close['Stock'] == 'AMZN'].copy()\n",
    "\n",
    "amazon.head()"
   ]
  },
  {
   "cell_type": "code",
   "execution_count": 2,
   "metadata": {},
   "outputs": [],
   "source": [
    "\n",
    "\n",
    "def plot_close(df, stocks):\n",
    "\n",
    "    fig, ax = plt.subplots()\n",
    "\n",
    "    # loop through the list of stocks\n",
    "    for stock in stocks:\n",
    "        # check if the stock exists in the data\n",
    "        if stock in df['Stock'].unique():\n",
    "\n",
    "            df_subset = df[df['Stock'] == stock]\n",
    "            # plot closing price\n",
    "            ax.plot(df_subset['Date'], df_subset['Close'], label=stock)\n",
    "        else:\n",
    "            print(f\"Stock {stock} is not present in the data and will be skipped.\")\n",
    "\n",
    "    # beautify\n",
    "    ax.set_xlabel('Date')\n",
    "    ax.set_ylabel('Closing Price')\n",
    "    ax.legend()\n",
    "    ax.set_title('Daily Closing Prices')\n",
    "    plt.show()\n"
   ]
  },
  {
   "cell_type": "code",
   "execution_count": null,
   "metadata": {},
   "outputs": [],
   "source": [
    "plot_close(df_close, ['AAPL', 'FAKE1', 'FAKE2', 'FB'])\n"
   ]
  },
  {
   "cell_type": "code",
   "execution_count": null,
   "metadata": {},
   "outputs": [],
   "source": [
    "\n"
   ]
  },
  {
   "cell_type": "markdown",
   "metadata": {},
   "source": [
    "## Daily exercise, part 2\n",
    "\n",
    "The presence of outliers, i.e. observations with \"untypical\" values, can heavliy influence our regression results. An important step in statistical analysis is therefore to investigate the presence of potential outliers.\n",
    "\n",
    "In the simple regression model that we estimated first (i.e., `mpg ~ horsepower`), we saw that the model consistently underpredicted `mpg` at high levels of actual `mpg`. Could this be caused by some car models having untypical/extreme levels of horsepower?\n",
    "\n",
    "Import `mpg.xlsx` and explore the presence of extreme values of horsepower in the data and its effect on the simple regression model (`mpg ~ horsepower`).\n",
    "\n",
    "1. Check for outliers in `horsepower`. Present any descriptive and/or graphical analysis that you see fit.\n",
    "\n",
    "\n",
    "2. Explore how much dropping a single observation, i.e. car model, from the data affects the estimated coefficient on `horsepower`:\n",
    "\n",
    "    a. Create a function called `get_beta` that estimates a simple regression model and returns the beta coefficient for the explanatory/independent variable. The function should take three inputs: `df` (the dataset), `dep` (column name of the dependent variable) and `indep` (column name for the independent variable). \n",
    "    \n",
    "    b. Ceate a `for` loop where you in each iteration drop an observation from the data and use `get_beta` to retrieve the beta coefficient from that model. Note that in the first iteration you should drop the first observation from the data. In the second iteration you should keep the first observation but drop the second observation. In the third iteration you should keep the first and second observations, but drop the third one, and so on...\n",
    "    \n",
    "    c. Show a histogram of the estimated beta coefficients. What is your verdict? Does it seem that the estimated coefficient on `horsepower` is affected by the presence of outliers?\n",
    "\n",
    "\n"
   ]
  },
  {
   "cell_type": "code",
   "execution_count": 10,
   "metadata": {},
   "outputs": [],
   "source": [
    "import pandas as pd\n",
    "\n",
    "# load df\n",
    "df_mpg = pd.read_excel(\"data/mpg.xlsx\")\n"
   ]
  },
  {
   "cell_type": "code",
   "execution_count": null,
   "metadata": {},
   "outputs": [],
   "source": [
    "##  Descriptive statistics\n",
    "\n",
    "import matplotlib.pyplot as plt\n",
    "import numpy as np\n",
    "horsepower_stats = df_mpg['horsepower'].describe()\n",
    "\n",
    "# Boxplot and histogram for outliers\n",
    "plt.figure(figsize=(12, 5))\n",
    "\n",
    "plt.subplot(1, 2, 1)\n",
    "plt.boxplot(df_mpg['horsepower'].dropna(), vert=False)\n",
    "plt.title(\"Boxplot of Horsepower\")\n",
    "\n",
    "plt.subplot(1, 2, 2)\n",
    "plt.hist(df_mpg['horsepower'].dropna(), bins=20)\n",
    "plt.title(\"Histogram of Horsepower\")\n",
    "plt.xlabel(\"Horsepower\")\n",
    "plt.ylabel(\"Frequency\")\n",
    "\n",
    "\n",
    "plt.grid()\n",
    "plt.tight_layout()\n",
    "plt.show()\n",
    "\n",
    "# display statistics\n",
    "print(horsepower_stats)"
   ]
  },
  {
   "cell_type": "code",
   "execution_count": null,
   "metadata": {},
   "outputs": [],
   "source": [
    "## Explore how much dropping a single observation\n",
    "\n",
    "import statsmodels.formula.api as smf\n",
    "\n",
    "# step 2 a) Define the get_beta function\n",
    "def get_beta(df, dep, indep):\n",
    "\n",
    "    formula = f\"{dep} ~ {indep}\"\n",
    "    model = smf.ols(formula=formula, data=df).fit()\n",
    "    return model.params[indep]\n",
    "\n",
    "# step 2 b) Drop observations one by one and compute beta coefficients\n",
    "beta_coefficients = []\n",
    "\n",
    "# clean data by dropping missing values\n",
    "df_clean = df_mpg.dropna(subset=['mpg', 'horsepower'])\n",
    "\n",
    "# total observations in the cleaned dataset\n",
    "n_clean = len(df_clean)\n",
    "\n",
    "# loop through and drop observations\n",
    "for i in range(n_clean):\n",
    "\n",
    "    # drop the i-th observation\n",
    "    df_temp = df_clean.drop(index=df_clean.index[i])\n",
    "\n",
    "    # compute beta coefficient for the independent variable\n",
    "    beta = get_beta(df_temp, 'mpg', 'horsepower')\n",
    "    beta_coefficients.append(beta)\n",
    "\n",
    "# step 2 c) Plot histogram of beta coefficients\n",
    "plt.figure(figsize=(10, 6))\n",
    "plt.hist(beta_coefficients, bins=20, edgecolor='k', alpha=0.7)\n",
    "plt.title(\"Histogram of Beta Coefficients (Effect of Dropping Observations)\")\n",
    "plt.xlabel(\"Beta Coefficient for Horsepower\")\n",
    "plt.ylabel(\"Frequency\")\n",
    "plt.grid()\n",
    "plt.tight_layout()\n",
    "plt.show()\n",
    "\n",
    "# summary of beta coefficients\n",
    "beta_summary = pd.Series(beta_coefficients).describe()\n",
    "print(beta_summary)\n",
    "\n",
    "print(\" \\n Explanation: The coefficients are tightly clustered around the mean, indicating that dropping individual \\n observations does not drastically alter the estimated coefficient for horsepower.\")\n"
   ]
  }
 ],
 "metadata": {
  "kernelspec": {
   "display_name": "Python 3",
   "language": "python",
   "name": "python3"
  },
  "language_info": {
   "codemirror_mode": {
    "name": "ipython",
    "version": 3
   },
   "file_extension": ".py",
   "mimetype": "text/x-python",
   "name": "python",
   "nbconvert_exporter": "python",
   "pygments_lexer": "ipython3",
   "version": "3.12.5"
  }
 },
 "nbformat": 4,
 "nbformat_minor": 4
}
